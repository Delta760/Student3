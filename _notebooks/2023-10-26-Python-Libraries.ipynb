{
 "cells": [
  {
   "cell_type": "markdown",
   "metadata": {},
   "source": [
    "---\n",
    "toc: True\n",
    "comments: True\n",
    "layout: post\n",
    "title: Python Library's\n",
    "type: hacks\n",
    "courses: {compsci: {week: 10}}\n",
    "---"
   ]
  },
  {
   "cell_type": "markdown",
   "metadata": {},
   "source": [
    "### What is a Library?\n",
    "Essentially a list of pre-written code that you can use to streamline and clean up your program.\n",
    "\n",
    "Libraries can help simplify complex programs\n",
    "\n",
    "APIS are specifications for how the procedures in a library behave, and how they can be used \n",
    "\n",
    "Documentations for an API/library is necessary in understanding the behaviors provided by the API/library and how to use them\n",
    "\n",
    "Libraries that we will go over: Requests, Pillow, Pandas, Numpy, Scikit-Learn, TensorFlow, matplotlib.\n"
   ]
  },
  {
   "cell_type": "markdown",
   "metadata": {},
   "source": [
    "### Required Installations\n",
    "Please run the following commands in your vscode terminal in order to continue the lesson\n",
    "- pip install numpy\n",
    "- pip install matplotlib\n",
    "- pip install scikit-learn\n",
    "- pip install pillow\n",
    "- pip install pandas\n",
    "- pip install tensorflow\n",
    "- pip install requests"
   ]
  },
  {
   "cell_type": "markdown",
   "metadata": {},
   "source": [
    "### Images using requests and pillow libraries\n",
    "'Requests' is focused on handling HTTP requests and web data while 'Pillow' is designed for data manipulation and analysis\n",
    "It's common to see them used together in data-related assignments where data is fetched by HTTP requests using Requests and then processed and analyzed with Pandas.\n",
    "\n",
    "Here's an example:"
   ]
  },
  {
   "cell_type": "code",
   "execution_count": null,
   "metadata": {},
   "outputs": [],
   "source": [
    "import requests\n",
    "from PIL import Image\n",
    "from io import BytesIO\n",
    "\n",
    "# Step 1: Download an image using Requests\n",
    "image_url = \"https://example.com/path/to/your/image.jpg\"  # Replace with the actual URL of the image you want to download\n",
    "response = requests.get(image_url)\n",
    "\n",
    "if response.status_code == 200:\n",
    "    # Step 2: Process the downloaded image using Pillow\n",
    "    image_data = BytesIO(response.content)  # Create an in-memory binary stream from the response content\n",
    "    img = Image.open(image_data)  # Open the image using Pillow\n",
    "\n",
    "    # Perform image processing tasks here, like resizing or applying filters\n",
    "    img = img.resize((x, y))  # Resize the image and replace x,y with desired amounts\n",
    "\n",
    "    # Step 3: Save the processed image using Pillow\n",
    "    img.save(\"processed_image.jpg\")  # Save the processed image to a file\n",
    "\n",
    "    print(\"Image downloaded, processed, and saved.\")\n",
    "else:\n",
    "    print(f\"Failed to download image. Status code: {response.status_code}\")\n"
   ]
  },
  {
   "cell_type": "markdown",
   "metadata": {},
   "source": [
    "In this code, we use the Requests library to download an image from a URL and then if the download is successful the HTTP status code 200 will pop up, and from there we create an in-memory binary stream (BytesIO) from the response content. We then use the Pillow library to open the image, make any necessary changes, and save the processed image to a file.\n",
    "\n",
    "Here's a step by step tutorial on how we wrote this code: \n",
    "1)We started by importing the necessary libraries, which were Requests, Pillow, and io.\n",
    "\n",
    "2)Download the Image\n",
    "\n",
    "3)Use the Requests library to send an HTTP GET request to the URL to download the image.\n",
    "Check the response status code to make sure the download goes through(status code 200).\n",
    "\n",
    "4)If the download is successful, create an in-memory binary stream (BytesIO) from the response content.\n",
    "Process the Image:\n",
    "\n",
    "5)Utilize the Pillow library to open the image from the binary stream.\n",
    "Change photo to desired preference(ie: size)\n",
    "Save the Processed Image:\n",
    "\n",
    "6)Save the processed image to a file using Pillow. Choose a filename and file format for the saved image.\n",
    "\n",
    "\n"
   ]
  },
  {
   "cell_type": "markdown",
   "metadata": {},
   "source": [
    "### Hack 1"
   ]
  },
  {
   "cell_type": "markdown",
   "metadata": {},
   "source": [
    "Write a Python code that accomplishes the following tasks:\n",
    "\n",
    "Downloads an image from a specified URL using the Requests library.\n",
    "Processes the downloaded image (like resizing) using the Pillow library.\n",
    "Save the processed image to a file.\n"
   ]
  },
  {
   "cell_type": "code",
   "execution_count": null,
   "metadata": {},
   "outputs": [],
   "source": [
    "#Code here"
   ]
  },
  {
   "cell_type": "markdown",
   "metadata": {},
   "source": [
    "### Math Operations With Python Libraries\n",
    "Numpy(Numerical Python) is used for numerical and scientific computing. It provides tools for handling large sets of numbers, such as data tables and arrays. Numpy makes it easier and more efficient to do mathematical tasks. \n",
    "\n",
    "The Matplotlib library lets you create a visual representation of your data (graphs, charts, and etc.)"
   ]
  },
  {
   "cell_type": "markdown",
   "metadata": {},
   "source": [
    "### Example Sine Graph\n",
    "Uses numpy and matplotlib libaries"
   ]
  },
  {
   "cell_type": "code",
   "execution_count": null,
   "metadata": {},
   "outputs": [],
   "source": [
    "import numpy as np\n",
    "import matplotlib.pyplot as plt\n",
    "\n",
    "# Generate sample data with NumPy\n",
    "x = np.linspace(0, 2 * np.pi, 100) \n",
    "# Create an array of values from 0 to 2*pi\n",
    "# 100 is included to have 100 points distributed between 0 and 2π to make graph smoother\n",
    "y = np.sin(x)\n",
    "# Compute the sine of each value\n",
    "\n",
    "# Create a simple line plot using Matplotlib\n",
    "plt.plot(x, y, label='Sine Function', color='blue', linestyle='-')  # Create the plot\n",
    "plt.title('Sine Function')  # Set the title\n",
    "plt.xlabel('x')  # Label for the x-axis\n",
    "plt.ylabel('sin(x)')  # Label for the y-axis\n",
    "plt.grid(True)  # Display a grid\n",
    "plt.legend()  # Show the legend\n",
    "plt.show()  # Display the plot\n"
   ]
  },
  {
   "cell_type": "markdown",
   "metadata": {},
   "source": [
    "### Hack 2\n",
    "Using the data from the numpy library, create a visual graph using different matplotlib functions."
   ]
  },
  {
   "cell_type": "code",
   "execution_count": null,
   "metadata": {},
   "outputs": [],
   "source": [
    "import numpy as np\n",
    "import matplotlib.pyplot as plt\n",
    "\n",
    "# Generate data for two lines\n",
    "x = np.linspace(0, 10, 50)  # Create an array of values from 0 to 10\n",
    "y1 = 2 * x + 1  # Set of data poits\n",
    "\n",
    "# Create and display a plot using Matplotlib\n",
    "\n",
    "# your code here\n"
   ]
  },
  {
   "cell_type": "markdown",
   "metadata": {},
   "source": [
    "Tensor Flow is used in deep learning and neural networks, while scikit-learn is used for typical machine learning tasks. When used together, they can tackle machine learning projects. In the code below, Tensor Flow is used for model creation and training. Scikit-learn is used for data-processing and model evaluation."
   ]
  },
  {
   "cell_type": "markdown",
   "metadata": {},
   "source": [
    "## Pip install tensorflow scikit-learn"
   ]
  },
  {
   "cell_type": "code",
   "execution_count": null,
   "metadata": {},
   "outputs": [],
   "source": [
    "import numpy as np\n",
    "import tensorflow as tf\n",
    "from sklearn.model_selection import train_test_split\n",
    "from sklearn.metrics import mean_squared_error\n",
    "from sklearn.preprocessing import StandardScaler\n",
    "from tensorflow import keras\n",
    "from tensorflow.keras import layers\n",
    "# Generate synthetic data\n",
    "np.random.seed(0)\n",
    "X = np.random.rand(100, 1)  # Feature\n",
    "y = 2 * X + 1 + 0.1 * np.random.randn(100, 1)  # Target variable with noise\n",
    "# Split the data into training and testing sets\n",
    "X_train, X_test, y_train, y_test = train_test_split(X, y, test_size=0.2, random_state=42)\n",
    "# Standardize the features\n",
    "scaler = StandardScaler()\n",
    "X_train = scaler.fit_transform(X_train)\n",
    "X_test = scaler.transform(X_test)\n",
    "# Create a simple linear regression model using TensorFlow and Keras\n",
    "model = keras.Sequential([\n",
    "    layers.Input(shape=(1,)),\n",
    "    layers.Dense(1)\n",
    "])\n",
    "# Compile the model\n",
    "model.compile(optimizer='adam', loss='mean_squared_error')\n",
    "# Train the model\n",
    "model.fit(X_train, y_train, epochs=100, batch_size=32, verbose=2)\n",
    "# Make predictions on the test set\n",
    "y_pred = model.predict(X_test)\n",
    "# Calculate the Mean Squared Error on the test set\n",
    "mse = mean_squared_error(y_test, y_pred)\n",
    "print(f\"Mean Squared Error: {mse:.4f}\")"
   ]
  },
  {
   "cell_type": "markdown",
   "metadata": {},
   "source": [
    "A decrease in loss and time metrics (ms/epoch and ms/step) shows the efficiency increases as the training epochs increases"
   ]
  },
  {
   "cell_type": "markdown",
   "metadata": {},
   "source": [
    "## Hack\n",
    "fill in the missing code to match the custom data set"
   ]
  },
  {
   "cell_type": "code",
   "execution_count": null,
   "metadata": {},
   "outputs": [],
   "source": [
    "import numpy as np\n",
    "import tensorflow as tf\n",
    "from sklearn.model_selection import train_test_split\n",
    "from sklearn.metrics import mean_squared_error\n",
    "from sklearn.preprocessing import StandardScaler\n",
    "from tensorflow import keras\n",
    "from tensorflow.keras import layers\n",
    "# Generate a custom dataset (replace this with your data loading code)\n",
    "# Synthetic data: House prices based on number of bedrooms and square footage\n",
    "np.random.seed(0)\n",
    "num_samples = 100\n",
    "bedrooms = np.random.randint(1, 5, num_samples)\n",
    "square_footage = np.random.randint(1000, 2500, num_samples)\n",
    "house_prices = 100000 + 50000 * bedrooms + 100 * square_footage + 10000 * np.random.randn(num_samples)\n",
    "# Combine features (bedrooms and square footage) into one array\n",
    "X = np.column_stack((bedrooms, square_footage))\n",
    "y = house_prices.reshape(-1, 1)\n",
    "# Split the data into training and testing sets\n",
    "\n",
    "# Standardize the features\n",
    "\n",
    "# Create a regression model using TensorFlow and Keras\n",
    "\n",
    "    # Input shape adjusted to the number of features\n",
    "     # Output layer for regression\n",
    "\n",
    "# Compile the model for regression\n",
    "  # Using MSE as the loss function\n",
    "# Train the model\n",
    "\n",
    "# Make predictions on the test set\n",
    "\n",
    "# Calculate the Mean Squared Error on the test set\n"
   ]
  },
  {
   "cell_type": "markdown",
   "metadata": {},
   "source": [
    "## HOMEWORK 1\n",
    "\n",
    "Create a GPA calculator using Pandas and Matplot libraries and make:\n",
    "1) A dataframe\n",
    "2) A specified dictionary\n",
    "3) and a print function that outputs the final GPA\n",
    "\n",
    "Extra points can be earned with creativity."
   ]
  },
  {
   "cell_type": "code",
   "execution_count": 1,
   "metadata": {},
   "outputs": [
    {
     "name": "stderr",
     "output_type": "stream",
     "text": [
      "Fontconfig warning: ignoring UTF-8: not a valid region tag\n"
     ]
    },
    {
     "name": "stdout",
     "output_type": "stream",
     "text": [
      "Course Information:\n",
      "   Subject  Credits Grade\n",
      "0     Math        3     A\n",
      "1  Science        4    B+\n",
      "2  History        3    A-\n",
      "3  English        3     B\n",
      "4      Art        2    C+\n",
      "\n",
      "Calculated GPA: 3.33\n"
     ]
    },
    {
     "data": {
      "image/png": "[encoded data removed]",
      "text/plain": [
       "<Figure size 640x480 with 1 Axes>"
      ]
     },
     "metadata": {},
     "output_type": "display_data"
    }
   ],
   "source": [
    "import pandas as pd\n",
    "import matplotlib.pyplot as plt\n",
    "\n",
    "# Function to calculate GPA\n",
    "def calculate_gpa(grades):\n",
    "    grade_points = {'A+': 4.0, 'A': 4.0, 'A-': 3.7, 'B+': 3.3, 'B': 3.0, 'B-': 2.7, 'C+': 2.3, 'C': 2.0, 'C-': 1.7, 'D+': 1.3, 'D': 1.0, 'F': 0.0}\n",
    "    total_credits = 0\n",
    "    weighted_points = 0\n",
    "\n",
    "    for subject, credit, grade in grades:\n",
    "        if grade in grade_points:\n",
    "            total_credits += credit\n",
    "            weighted_points += credit * grade_points[grade]\n",
    "\n",
    "    if total_credits == 0:\n",
    "        return 0.0\n",
    "    else:\n",
    "        return weighted_points / total_credits\n",
    "\n",
    "# Create a dataframe\n",
    "data = {'Subject': ['Math', 'Science', 'History', 'English', 'Art'],\n",
    "        'Credits': [3, 4, 3, 3, 2],\n",
    "        'Grade': ['A', 'B+', 'A-', 'B', 'C+']}\n",
    "df = pd.DataFrame(data)\n",
    "\n",
    "# Print the dataframe\n",
    "print(\"Course Information:\")\n",
    "print(df)\n",
    "\n",
    "# Calculate GPA\n",
    "grades = [(row.Subject, row.Credits, row.Grade) for index, row in df.iterrows()]\n",
    "gpa = calculate_gpa(grades)\n",
    "\n",
    "# Print GPA\n",
    "print(\"\\nCalculated GPA: {:.2f}\".format(gpa))\n",
    "\n",
    "# Bar chart to visualize grades\n",
    "df['Grade Points'] = df['Grade'].map({'A+': 4.0, 'A': 4.0, 'A-': 3.7, 'B+': 3.3, 'B': 3.0, 'B-': 2.7, 'C+': 2.3, 'C': 2.0, 'C-': 1.7, 'D+': 1.3, 'D': 1.0, 'F': 0.0})\n",
    "df.plot(x='Subject', y='Grade Points', kind='bar', color='teal', legend=False)\n",
    "plt.ylabel('Grade Points')\n",
    "plt.title('Grades')\n",
    "plt.ylim(0, 4.5)\n",
    "plt.xticks(rotation=45)\n",
    "plt.show()\n"
   ]
  },
  {
   "cell_type": "markdown",
   "metadata": {},
   "source": [
    "## HOMEWORK 2\n",
    "\n",
    "Import and use the \"random\" library to generate 50 different points from the range 0-100, then display the randomized data using a scatter plot.\n",
    "\n",
    "Extra points can be earned with creativity."
   ]
  },
  {
   "cell_type": "code",
   "execution_count": 2,
   "metadata": {},
   "outputs": [
    {
     "data": {
      "image/png": "[encoded data removed]",
      "text/plain": [
       "<Figure size 640x480 with 1 Axes>"
      ]
     },
     "metadata": {},
     "output_type": "display_data"
    }
   ],
   "source": [
    "# your code here\n",
    "import random\n",
    "import matplotlib.pyplot as plt\n",
    "\n",
    "# Generate 50 random points in the range 0-100\n",
    "x = [random.randint(0, 100) for _ in range(50)]\n",
    "y = [random.randint(0, 100) for _ in range(50)]\n",
    "\n",
    "# Create a scatter plot\n",
    "plt.scatter(x, y, color='blue', label='Random Points')\n",
    "\n",
    "# Add labels and title\n",
    "plt.xlabel('X-axis')\n",
    "plt.ylabel('Y-axis')\n",
    "plt.title('Random Scatter Plot')\n",
    "\n",
    "# Display the plot\n",
    "plt.legend()\n",
    "plt.grid(True)\n",
    "plt.show()\n"
   ]
  }
 ],
 "metadata": {
  "kernelspec": {
   "display_name": "Python 3",
   "language": "python",
   "name": "python3"
  },
  "language_info": {
   "codemirror_mode": {
    "name": "ipython",
    "version": 3
   },
   "file_extension": ".py",
   "mimetype": "text/x-python",
   "name": "python",
   "nbconvert_exporter": "python",
   "pygments_lexer": "ipython3",
   "version": "3.11.6"
  }
 },
 "nbformat": 4,
 "nbformat_minor": 2
}
